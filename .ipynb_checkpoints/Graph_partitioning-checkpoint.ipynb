{
 "cells": [
  {
   "cell_type": "code",
   "execution_count": 1,
   "metadata": {},
   "outputs": [],
   "source": [
    "import csv\n",
    "import pymetis\n",
    "import numpy as np\n",
    "def read_txt(filename):\n",
    "    lv=[]\n",
    "    with open(filename) as file:\n",
    "        l=file.readlines()\n",
    "    l2=l[0].replace('\\n', '')\n",
    "    nbv,nbe=l2.split(\" \")\n",
    "    for line in l[1:]:\n",
    "        line2=line.replace('\\n', '')\n",
    "        i,j,w=line2.split(\" \")\n",
    "        lv.append((i,j,w))\n",
    "    return lv,nbv,nbe\n",
    "        \n",
    "def graph_partitioning(proc,lv,nbv,nbe):\n",
    "    #adjacency: 1*n matrix, where each row i represents the adjacent nodes of node i\n",
    "    #adjncy:list of adjacent nodes (moves with xadj)\n",
    "    #xadj: index of the adjacent nodes: adjacent nodes of node i from index xadj[i] to index xadj[i+1]\n",
    "    l=[]\n",
    "    e=[]\n",
    "    xadj=[]\n",
    "    idx=[]\n",
    "    xcount=0\n",
    "    for k in range(len(lv)):\n",
    "        idx.append(int(lv[k][0]))\n",
    "    for i in range(int(nbv)):\n",
    "        n=idx.count(i)\n",
    "        #print(n)\n",
    "        xcount+=n\n",
    "        xadj.append(xcount)\n",
    "    print(xadj)\n",
    "    dtype=[('v1',int),('v2',int),('w',int)]\n",
    "    a=np.array(lv,dtype)\n",
    "    lv2=np.sort(a,order='v1')\n",
    "    print(lv2)\n",
    "    for k in range(len(lv)):\n",
    "        i,j,w=lv2[k]\n",
    "        l.append(j)\n",
    "        e.append(w)\n",
    "    arg={'nparts': proc,'xadj': xadj,'adjncy':l,'eweights': e,}\n",
    "    r,part=pymetis.part_graph(**arg)\n",
    "    f=open(\"data\",'w') \n",
    "    for i in part:\n",
    "        f.write(str(i)+\"\\n\")\n",
    "    return "
   ]
  },
  {
   "cell_type": "code",
   "execution_count": 2,
   "metadata": {},
   "outputs": [],
   "source": [
    "lv,nbv,nbe=read_txt(\"test.txt\")"
   ]
  },
  {
   "cell_type": "code",
   "execution_count": 3,
   "metadata": {},
   "outputs": [
    {
     "name": "stdout",
     "output_type": "stream",
     "text": [
      "[1, 3, 6, 6, 6]\n",
      "[(0, 2, 4) (1, 2, 3) (1, 3, 4) (2, 1, 2) (2, 3, 8) (2, 4, 5)]\n",
      "[1, 3, 6, 6, 6]\n",
      "[2, 2, 3, 1, 3, 4]\n",
      "[4, 3, 4, 2, 8, 5]\n"
     ]
    }
   ],
   "source": [
    "graph_partitioning(2,lv,nbv,nbe)"
   ]
  },
  {
   "cell_type": "code",
   "execution_count": null,
   "metadata": {},
   "outputs": [],
   "source": []
  }
 ],
 "metadata": {
  "kernelspec": {
   "display_name": "Python 3",
   "language": "python",
   "name": "python3"
  },
  "language_info": {
   "codemirror_mode": {
    "name": "ipython",
    "version": 3
   },
   "file_extension": ".py",
   "mimetype": "text/x-python",
   "name": "python",
   "nbconvert_exporter": "python",
   "pygments_lexer": "ipython3",
   "version": "3.8.5"
  }
 },
 "nbformat": 4,
 "nbformat_minor": 4
}
