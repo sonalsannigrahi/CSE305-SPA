{
 "cells": [
  {
   "cell_type": "code",
   "execution_count": 11,
   "metadata": {},
   "outputs": [
    {
     "data": {
      "text/plain": [
       "(-1753778288, [1, 0, 1, 2])"
      ]
     },
     "execution_count": 11,
     "metadata": {},
     "output_type": "execute_result"
    }
   ],
   "source": [
    "\n",
    "args = {'nparts': 4,'xadj':[],'adjcy': [[0, 2, 3], [1, 2], [0, 1, 2], [0, 3]],\n",
    "            'eweights': [1073741824, 429496736, 357913952, 1073741824,\n",
    "                         536870912, 429496736, 536870912, 1073741824,\n",
    "                         357913952, 1073741824],}\n",
    "pymetis.part_graph(**args)"
   ]
  },
  {
   "cell_type": "code",
   "execution_count": 7,
   "metadata": {},
   "outputs": [],
   "source": [
    "args1={'nparts': 4,'adjacency': [[0, 2], [1, 2], [0, 1], [0, 3]],\n",
    "            'eweights': [1073741824, 429496736, 357913952, 1073741824],}\n",
    "args2={'nparts': 4,'adjacency': [[0, 2], [1, 2], [0, 1], [0, 3]],}"
   ]
  },
  {
   "cell_type": "code",
   "execution_count": 8,
   "metadata": {},
   "outputs": [
    {
     "data": {
      "text/plain": [
       "(842079561, [1, 3, 2, 0])"
      ]
     },
     "execution_count": 8,
     "metadata": {},
     "output_type": "execute_result"
    }
   ],
   "source": [
    "pymetis.part_graph(**args1)"
   ]
  },
  {
   "cell_type": "code",
   "execution_count": 21,
   "metadata": {},
   "outputs": [
    {
     "data": {
      "text/plain": [
       "(2, [1, 3, 0, 2])"
      ]
     },
     "execution_count": 21,
     "metadata": {},
     "output_type": "execute_result"
    }
   ],
   "source": [
    "pymetis.part_graph(**args2)"
   ]
  },
  {
   "cell_type": "code",
   "execution_count": 10,
   "metadata": {},
   "outputs": [],
   "source": [
    "import csv\n",
    "import pymetis\n",
    "import numpy as np\n",
    "def read_txt(filename):\n",
    "    lv=[]\n",
    "    lw=[]\n",
    "    with open(filename) as file:\n",
    "        l=file.readlines().replace('\\n', '')\n",
    "    nbv,nbe=l[0].split(\" \")\n",
    "    for line in l[1:]:\n",
    "        i,j,w=line.split(\" \")\n",
    "        lv.append([i,j])\n",
    "        lw,append(w)\n",
    "    return lv,lw,nbv,nbe\n",
    "        \n",
    "def graph_partitioning(proc,lv,lw,nbv,nbe):\n",
    "    #adjacency: 1*n matrix, where each row i represents the adjacent nodes of node i\n",
    "    #adjncy:list of adjacent nodes (moves with xadj)\n",
    "    #xadj: index of the adjacent nodes: adjacent nodes of node i from index xadj[i] to index xadj[i+1]\n",
    "    l=np.zeros([1,nbv])\n",
    "    e=[]\n",
    "    for k in range(len(lv)):\n",
    "        i,j=lv[k]\n",
    "        np.append(l[i],j)\n",
    "        e.append(lw[k])\n",
    "    arg={'nparts': proc,'adjacency': l,'eweights': e,}\n",
    "    w,part=pymetis.part_graph(**arg)\n",
    "    f=open(\"data\",w) \n",
    "    for i in part:\n",
    "        f.write(str(i)+\"\\n\")\n",
    "    return "
   ]
  },
  {
   "cell_type": "code",
   "execution_count": null,
   "metadata": {},
   "outputs": [],
   "source": []
  }
 ],
 "metadata": {
  "kernelspec": {
   "display_name": "Python 3",
   "language": "python",
   "name": "python3"
  },
  "language_info": {
   "codemirror_mode": {
    "name": "ipython",
    "version": 3
   },
   "file_extension": ".py",
   "mimetype": "text/x-python",
   "name": "python",
   "nbconvert_exporter": "python",
   "pygments_lexer": "ipython3",
   "version": "3.8.5"
  }
 },
 "nbformat": 4,
 "nbformat_minor": 4
}
